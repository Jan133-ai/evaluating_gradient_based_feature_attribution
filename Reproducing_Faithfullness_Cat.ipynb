{
 "cells": [
  {
   "cell_type": "markdown",
   "id": "14fad623",
   "metadata": {},
   "source": [
    "# Experiment 3.1.3: Faithfulness of Effects, categorical"
   ]
  },
  {
   "cell_type": "code",
   "execution_count": 23,
   "id": "33aabaec",
   "metadata": {},
   "outputs": [],
   "source": [
    "import numpy as np\n",
    "\n",
    "import pandas as pd\n",
    "\n",
    "import matplotlib.pyplot as plt\n",
    "\n",
    "import seaborn as sns\n",
    "\n",
    "import torch\n",
    "import torch.nn as nn\n",
    "import torch.nn.functional as F\n",
    "import torch.optim as optim\n",
    "from torcheval.metrics.functional import r2_score\n",
    "\n",
    "from captum.attr import IntegratedGradients, Saliency, NoiseTunnel, InputXGradient, LRP, DeepLift\n",
    "from captum.attr._utils.lrp_rules import EpsilonRule"
   ]
  },
  {
   "cell_type": "markdown",
   "id": "f7e9a9c4",
   "metadata": {},
   "source": [
    "#### Generate categorical data"
   ]
  },
  {
   "cell_type": "code",
   "execution_count": 24,
   "id": "77b3a27b",
   "metadata": {},
   "outputs": [],
   "source": [
    "def gen_data(levels, num_features=12, num_samples=5000):\n",
    "    X_label = np.random.choice(levels, (num_samples, num_features))\n",
    "    X = (X_label - (levels - 1) / 2) / ((levels - 1) / 2)\n",
    "    X_one_hot = F.one_hot(torch.from_numpy(X_label)).numpy()\n",
    "    \n",
    "    X_one_hot_flattend = X_one_hot.reshape(X_one_hot.shape[0], -1)\n",
    "\n",
    "    return X, X_label, X_one_hot_flattend"
   ]
  },
  {
   "cell_type": "markdown",
   "id": "2375917d",
   "metadata": {},
   "source": [
    "#### Calculate the Y with grouped beta for the categories mapped to real values"
   ]
  },
  {
   "cell_type": "code",
   "execution_count": 25,
   "id": "46287f13",
   "metadata": {},
   "outputs": [],
   "source": [
    "def calc_y(X, num_features, num_samples):\n",
    "    epsilon = np.random.normal(0, 1, num_samples)\n",
    "\n",
    "    beta = np.random.uniform(-1, 1, num_features + 1)\n",
    "    beta[1:] = [0.1, 0.1, 0.1, 0.1, 0.4, 0.4, 0.4, 0.4, 1, 1, 1, 1]\n",
    "\n",
    "    Y = beta[0] + np.sum(np.multiply(beta[1:], X), axis=1) + epsilon\n",
    "\n",
    "    return Y, beta"
   ]
  },
  {
   "cell_type": "markdown",
   "id": "b8d1f523",
   "metadata": {},
   "source": [
    "#### Define the neural network"
   ]
  },
  {
   "cell_type": "code",
   "execution_count": 26,
   "id": "99dc9fba",
   "metadata": {},
   "outputs": [],
   "source": [
    "class Net_label(nn.Module):\n",
    "\n",
    "    def __init__(self, num_features):\n",
    "        super(Net_label, self).__init__()\n",
    "\n",
    "        self.net = nn.Sequential(\n",
    "            nn.Linear(num_features, 256),\n",
    "            nn.ReLU(),\n",
    "            nn.Dropout(0.4),\n",
    "            nn.Linear(256, 128),\n",
    "            nn.ReLU(),\n",
    "            nn.Dropout(0.4),\n",
    "            nn.Linear(128, 1)\n",
    "        )\n",
    "\n",
    "    \n",
    "    def forward(self, input):\n",
    "        return self.net(input)\n",
    "    \n",
    "class Net_encoding(nn.Module):\n",
    "\n",
    "    def __init__(self, num_features, embedding_dim):\n",
    "        super(Net_encoding, self).__init__()\n",
    "\n",
    "        self.net = nn.Sequential(\n",
    "            nn.Linear(num_features * embedding_dim, 256),\n",
    "            nn.ReLU(),\n",
    "            nn.Dropout(0.4),\n",
    "            nn.Linear(256, 128),\n",
    "            nn.ReLU(),\n",
    "            nn.Dropout(0.4),\n",
    "            nn.Linear(128, 1)\n",
    "        )\n",
    "\n",
    "    \n",
    "    def forward(self, input):\n",
    "        return self.net(input)"
   ]
  },
  {
   "cell_type": "markdown",
   "id": "dc9cb2a1",
   "metadata": {},
   "source": [
    "#### Split the data in train and test samples"
   ]
  },
  {
   "cell_type": "code",
   "execution_count": 27,
   "id": "4d3b729d",
   "metadata": {},
   "outputs": [],
   "source": [
    "def train_split(X, Y, num_samples, train_rate=0.80):\n",
    "\n",
    "    index = int(num_samples * train_rate)\n",
    "\n",
    "    X_train = X[:index]\n",
    "    Y_train = Y[:index]\n",
    "\n",
    "    X_test = X[index:]\n",
    "    Y_test = Y[index:]\n",
    "\n",
    "    return X_train, X_test, Y_train, Y_test"
   ]
  },
  {
   "cell_type": "markdown",
   "id": "547b953e",
   "metadata": {},
   "source": [
    "#### Train the network"
   ]
  },
  {
   "cell_type": "code",
   "execution_count": 28,
   "id": "6171471d",
   "metadata": {},
   "outputs": [],
   "source": [
    "def train_net(net, X_train, X_test, Y_train, Y_test):\n",
    "    optimizer = torch.optim.Adam(net.parameters(), lr=0.01)\n",
    "    loss_fn = nn.MSELoss()\n",
    "\n",
    "    X_train_tensor = torch.tensor(X_train, dtype=torch.float32)\n",
    "    Y_train_tensor = torch.tensor(Y_train.reshape(-1, 1), dtype=torch.float32)\n",
    "\n",
    "    highest_score = -10\n",
    "    counter = 50\n",
    "    PATH = \"best_model_faith_cat.pt\"\n",
    "\n",
    "    for epoch in range(300):\n",
    "        net.train()\n",
    "        optimizer.zero_grad()\n",
    "        outputs = net(X_train_tensor)\n",
    "        loss = loss_fn(outputs, Y_train_tensor)\n",
    "        loss.backward()\n",
    "        optimizer.step()\n",
    "\n",
    "        r2 = r2_score(net.forward(torch.from_numpy(X_test).type(torch.FloatTensor)), torch.from_numpy(np.reshape(Y_test, (-1, 1))).type(torch.FloatTensor))\n",
    "\n",
    "        if r2 > highest_score:\n",
    "            highest_score = r2\n",
    "            counter = 50\n",
    "            torch.save(net.state_dict(), PATH)\n",
    "        else:\n",
    "            counter -= 1\n",
    "\n",
    "        if counter == 0:\n",
    "            break\n",
    "\n",
    "    net.load_state_dict(torch.load(PATH, weights_only=True))\n",
    "    net.eval()        \n",
    "\n",
    "    score = r2_score(net.forward(torch.from_numpy(X_test).type(torch.FloatTensor)), torch.from_numpy(np.reshape(Y_test, (-1, 1))).type(torch.FloatTensor))\n",
    "\n",
    "    return net, score"
   ]
  },
  {
   "cell_type": "markdown",
   "id": "e65bfad8",
   "metadata": {},
   "source": [
    "#### Generate the attribution values"
   ]
  },
  {
   "cell_type": "code",
   "execution_count": 29,
   "id": "2e1f9ebf",
   "metadata": {},
   "outputs": [],
   "source": [
    "def calc_explanations(net, test_input_tensor, X_test):\n",
    "\n",
    "    test_input_tensor.requires_grad_()\n",
    "\n",
    "    #Gradient\n",
    "\n",
    "    sal = Saliency(net)\n",
    "\n",
    "    attr_grad = sal.attribute(test_input_tensor, abs=False)\n",
    "    attr_grad = attr_grad.detach().numpy()\n",
    "\n",
    "    #Saliency\n",
    "\n",
    "    attr_sal = np.square(attr_grad)\n",
    "\n",
    "    #SmoothGrad\n",
    "\n",
    "    sal = Saliency(net)\n",
    "    nt = NoiseTunnel(sal)\n",
    "\n",
    "    noise_level = 0.2\n",
    "    stdev = (torch.max(test_input_tensor) - torch.min(test_input_tensor)).detach().item() * noise_level\n",
    "\n",
    "    attr_sm_grad = nt.attribute(test_input_tensor, nt_samples=50, nt_type=\"smoothgrad\", stdevs=stdev, abs=False)\n",
    "    attr_sm_grad = attr_sm_grad.detach().numpy()\n",
    "\n",
    "    #GradientxInput\n",
    "\n",
    "    ixg = InputXGradient(net)\n",
    "\n",
    "    attr_ixg = ixg.attribute(test_input_tensor)\n",
    "    attr_ixg = attr_ixg.detach().numpy()\n",
    "\n",
    "    #Lrp-epsilon\n",
    "\n",
    "    net.net.rule = EpsilonRule(0.1)\n",
    "\n",
    "    lrp = LRP(net)\n",
    "\n",
    "    attr_lrp = lrp.attribute(test_input_tensor)\n",
    "    attr_lrp = attr_lrp.detach().numpy()\n",
    "\n",
    "    #SmoothGradXInput\n",
    "\n",
    "    ixg = InputXGradient(net)\n",
    "    nt_ixg = NoiseTunnel(ixg)\n",
    "\n",
    "    attr_sm_ixg = nt_ixg.attribute(test_input_tensor, nt_samples=50, nt_type=\"smoothgrad\", stdevs=stdev)\n",
    "    attr_sm_ixg = attr_sm_ixg.detach().numpy()\n",
    "\n",
    "    #Integrated Gradients\n",
    "\n",
    "    ig = IntegratedGradients(net)\n",
    "\n",
    "    attr_ig_zero = ig.attribute(test_input_tensor,baselines=0.0)\n",
    "    attr_ig_zero = attr_ig_zero.detach().numpy()\n",
    "\n",
    "\n",
    "    baseline_mean = torch.mean((test_input_tensor).type(torch.FloatTensor), dim=0, keepdim=True).type(torch.FloatTensor)\n",
    "\n",
    "    ig = IntegratedGradients(net)\n",
    "\n",
    "    attr_ig_mean = ig.attribute(test_input_tensor,baselines=baseline_mean)\n",
    "    attr_ig_mean = attr_ig_mean.detach().numpy()\n",
    "    \n",
    "    #DeepLIFT\n",
    "\n",
    "    dl = DeepLift(net)\n",
    "\n",
    "    attr_dl_zero = dl.attribute(test_input_tensor, baselines=0.0)\n",
    "    attr_dl_zero = attr_dl_zero.detach().numpy()\n",
    "\n",
    "    dl = DeepLift(net)\n",
    "\n",
    "    attr_dl_mean = dl.attribute(test_input_tensor, baselines=baseline_mean)\n",
    "    attr_dl_mean = attr_dl_mean.detach().numpy()\n",
    "\n",
    "    return attr_grad, attr_sal, attr_sm_grad, attr_ixg, attr_lrp, attr_sm_ixg, attr_ig_zero, attr_ig_mean, attr_dl_zero, attr_dl_mean"
   ]
  },
  {
   "cell_type": "markdown",
   "id": "e039ef8c",
   "metadata": {},
   "source": [
    "#### Calculate the true feature effects from the categories mapped to real values"
   ]
  },
  {
   "cell_type": "code",
   "execution_count": 30,
   "id": "db2fbe66",
   "metadata": {},
   "outputs": [],
   "source": [
    "def calc_feature_importance(X_test, beta):\n",
    "    feature_importance = np.multiply(beta[1:], X_test).T\n",
    "\n",
    "    return feature_importance"
   ]
  },
  {
   "cell_type": "markdown",
   "id": "1a936cfa",
   "metadata": {},
   "source": [
    "#### Compute the correlation values"
   ]
  },
  {
   "cell_type": "code",
   "execution_count": 31,
   "id": "7ed87d2d",
   "metadata": {},
   "outputs": [],
   "source": [
    "def correlations(attr, test_input_tensor, beta, num_features, feature_importance, embedding_dim):\n",
    "\n",
    "    if attr.shape[1] > num_features:\n",
    "        for j in range(num_features):\n",
    "            attr[:,j] = np.sum(attr[:, (embedding_dim*j):(embedding_dim*(j+1))], axis=1)\n",
    "    attr = attr[:,:num_features]\n",
    "\n",
    "    explainations = attr.T\n",
    "\n",
    "    corr_matrix = np.corrcoef(feature_importance, explainations)\n",
    "\n",
    "    corr = [corr_matrix[i, num_features + i] for i in range(num_features)]\n",
    "\n",
    "    return corr"
   ]
  },
  {
   "cell_type": "markdown",
   "id": "a131db2b",
   "metadata": {},
   "source": [
    "#### Main method to conduct the simulation"
   ]
  },
  {
   "cell_type": "code",
   "execution_count": 32,
   "id": "53baa8c2",
   "metadata": {},
   "outputs": [
    {
     "name": "stderr",
     "output_type": "stream",
     "text": [
      "/opt/anaconda3/lib/python3.11/site-packages/captum/log/dummy_log.py:39: UserWarning: Setting forward, backward hooks and attributes on non-linear\n",
      "               activations. The hooks and attributes will be removed\n",
      "            after the attribution is finished\n",
      "  return func(*args, **kwargs)\n"
     ]
    },
    {
     "name": "stdout",
     "output_type": "stream",
     "text": [
      "2 Levels: 0.8127028942108154\n",
      "4 Levels: 0.7088214159011841\n"
     ]
    }
   ],
   "source": [
    "num_features=12\n",
    "num_samples=5000\n",
    "\n",
    "data = []\n",
    "for levels in [2, 4]:\n",
    "\n",
    "    scores = []\n",
    "\n",
    "    for i in range(200):\n",
    "\n",
    "        X, X_label, X_onehot = gen_data(levels)\n",
    "\n",
    "        Y, beta = calc_y(X, num_features, num_samples)\n",
    "\n",
    "        X_train, X_test, Y_train, Y_test = train_split(X, Y, num_samples)\n",
    "\n",
    "        feature_importance = calc_feature_importance(X_test, beta)\n",
    "\n",
    "\n",
    "        if levels == 2:\n",
    "            X_train, X_test, Y_train, Y_test = train_split(X_label, Y, num_samples)\n",
    "\n",
    "            embedding_dim = int(len(X_train[0]) / num_features)\n",
    "    \n",
    "            net = Net_label(num_features)\n",
    "\n",
    "        else:\n",
    "            X_train, X_test, Y_train, Y_test = train_split(X_onehot, Y, num_samples)\n",
    "\n",
    "            embedding_dim = int(len(X_train[0]) / num_features)\n",
    "\n",
    "            net = Net_encoding(num_features, embedding_dim)\n",
    "\n",
    "\n",
    "        test_input_tensor = torch.from_numpy(X_test).type(torch.FloatTensor)\n",
    "\n",
    "        net, score = train_net(net, X_train, X_test, Y_train, Y_test)\n",
    "\n",
    "        scores.append(score)\n",
    "\n",
    "        #print(score)\n",
    "\n",
    "        attr_grad, attr_sal, attr_sm_grad, attr_ixg, attr_lrp, attr_sm_ixg, attr_ig_zero, attr_ig_mean, attr_dl_zero, attr_dl_mean = calc_explanations(\n",
    "                                                                                            net, test_input_tensor, X_test)\n",
    "\n",
    "        for (attr, corr_method) in zip((attr_grad, attr_sm_grad, attr_sal, attr_ixg, attr_lrp, attr_sm_ixg, attr_ig_zero, attr_ig_mean, attr_dl_zero, attr_dl_mean),\n",
    "                                  (\"Gradient\", \"SmoothGrad\", \"Saliency\", \"InputxGrad\", \"LRP-ℇ\", \"SmoothGradxInput\", \"Integrated Gradient(zero)\", \n",
    "                                   \"Integrated Gradient(mean)\", \"DeepLift(zero)\", \"DeepLift(mean)\")):\n",
    "    \n",
    "            correlation = correlations(attr, X_test, beta, num_features, feature_importance, embedding_dim)\n",
    "\n",
    "            for ind in range(len(correlation)):\n",
    "                if ind < 4:\n",
    "                    data.append({\n",
    "                        'Method': corr_method,\n",
    "                        'Levels': levels,\n",
    "                        'FeatureEffect': \"Weak\",\n",
    "                        'Correlation': correlation[ind]\n",
    "                    })\n",
    "                elif ind < 8:\n",
    "                    data.append({\n",
    "                        'Method': corr_method,\n",
    "                        'Levels': levels,\n",
    "                        'FeatureEffect': \"Medium\",\n",
    "                        'Correlation': correlation[ind]\n",
    "                    })\n",
    "                else:\n",
    "                    data.append({\n",
    "                        'Method': corr_method,\n",
    "                        'Levels': levels,\n",
    "                        'FeatureEffect': \"Strong\",\n",
    "                        'Correlation': correlation[ind]\n",
    "                    })\n",
    "\n",
    "    print(f\"{levels} Levels: {np.mean(scores)}\")"
   ]
  },
  {
   "cell_type": "markdown",
   "id": "33025d03",
   "metadata": {},
   "source": [
    "#### Plot the simulation results"
   ]
  },
  {
   "cell_type": "code",
   "execution_count": 33,
   "id": "bdacf401",
   "metadata": {},
   "outputs": [
    {
     "name": "stdout",
     "output_type": "stream",
     "text": [
      "               Method  Levels FeatureEffect  Correlation\n",
      "0            Gradient       2          Weak    -0.774562\n",
      "1            Gradient       2          Weak    -0.752564\n",
      "2            Gradient       2          Weak    -0.762968\n",
      "3            Gradient       2          Weak    -0.815435\n",
      "4            Gradient       2        Medium    -0.817522\n",
      "...               ...     ...           ...          ...\n",
      "47995  DeepLift(mean)       4        Medium     0.992992\n",
      "47996  DeepLift(mean)       4        Strong     0.998624\n",
      "47997  DeepLift(mean)       4        Strong     0.997791\n",
      "47998  DeepLift(mean)       4        Strong     0.998101\n",
      "47999  DeepLift(mean)       4        Strong     0.997514\n",
      "\n",
      "[48000 rows x 4 columns]\n"
     ]
    },
    {
     "data": {
      "image/png": "[encoded data removed]",
      "text/plain": [
       "<Figure size 800x500 with 2 Axes>"
      ]
     },
     "metadata": {},
     "output_type": "display_data"
    }
   ],
   "source": [
    "\n",
    "df = pd.DataFrame(data)\n",
    "print(df)\n",
    "\n",
    "\n",
    "flierprops = dict(marker='o', markersize=2, alpha=0.4)\n",
    "\n",
    "g = sns.FacetGrid(\n",
    "    df,\n",
    "    col='Levels',\n",
    "    sharex=True,\n",
    "    height=5,\n",
    "    aspect=0.8\n",
    ")\n",
    "\n",
    "g.map_dataframe(\n",
    "    sns.boxplot,\n",
    "    x='Correlation',\n",
    "    y='Method',\n",
    "    hue='FeatureEffect',\n",
    "    palette={'Weak': '#39a3a3', 'Medium': '#56b4e9', 'Strong': '#e76f51'},\n",
    "    flierprops=flierprops,\n",
    "    dodge=True\n",
    ")\n",
    "\n",
    "for ax in g.axes.flatten():\n",
    "    ax.axvline(0, color='black', linestyle='--', linewidth=1)\n",
    "\n",
    "handles, labels = g.axes[0][0].get_legend_handles_labels()\n",
    "g.figure.legend(handles, labels, title=\"Feature effect\", loc='lower center', ncol=3, frameon=False, bbox_to_anchor=(0.5, 0))\n",
    "\n",
    "g.set_titles(\"{col_name} Levels\")\n",
    "plt.subplots_adjust(bottom=0.25)\n",
    "plt.show()"
   ]
  }
 ],
 "metadata": {
  "kernelspec": {
   "display_name": "base",
   "language": "python",
   "name": "python3"
  },
  "language_info": {
   "codemirror_mode": {
    "name": "ipython",
    "version": 3
   },
   "file_extension": ".py",
   "mimetype": "text/x-python",
   "name": "python",
   "nbconvert_exporter": "python",
   "pygments_lexer": "ipython3",
   "version": "3.11.8"
  }
 },
 "nbformat": 4,
 "nbformat_minor": 5
}
