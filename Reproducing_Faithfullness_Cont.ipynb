{
 "cells": [
  {
   "cell_type": "markdown",
   "id": "14dc7682",
   "metadata": {},
   "source": [
    "# Experiment 3.1.3: Faithfulness of Effects, continuous"
   ]
  },
  {
   "cell_type": "code",
   "execution_count": 1,
   "id": "88297e51",
   "metadata": {},
   "outputs": [],
   "source": [
    "import numpy as np\n",
    "\n",
    "import pandas as pd\n",
    "\n",
    "import matplotlib.pyplot as plt\n",
    "\n",
    "import seaborn as sns\n",
    "\n",
    "import torch\n",
    "import torch.nn as nn\n",
    "import torch.nn.functional as F\n",
    "import torch.optim as optim\n",
    "from torcheval.metrics.functional import r2_score\n",
    "\n",
    "from captum.attr import IntegratedGradients, Saliency, NoiseTunnel, InputXGradient, LRP, DeepLift\n",
    "from captum.attr._utils.lrp_rules import EpsilonRule\n",
    "\n",
    "from scipy.interpolate import interp1d"
   ]
  },
  {
   "cell_type": "markdown",
   "id": "1ece1012",
   "metadata": {},
   "source": [
    "#### Generate continuous data"
   ]
  },
  {
   "cell_type": "code",
   "execution_count": 2,
   "id": "af2343d6",
   "metadata": {},
   "outputs": [],
   "source": [
    "def gen_data(num_features=12, num_samples=5000):\n",
    "\n",
    "    mue = np.random.uniform(-2, 2, (num_features, 1))\n",
    "    sigma = np.random.uniform(np.sqrt(0.9), np.sqrt(1.1), (num_features, 1))\n",
    "\n",
    "    X = np.random.normal(mue, sigma, size=(num_features, num_samples)).T\n",
    "\n",
    "    return X"
   ]
  },
  {
   "cell_type": "markdown",
   "id": "f595371a",
   "metadata": {},
   "source": [
    "#### Define the transformation functions"
   ]
  },
  {
   "cell_type": "code",
   "execution_count": 3,
   "id": "250c06c7",
   "metadata": {},
   "outputs": [],
   "source": [
    "def g(X, func):\n",
    "    if func == \"Linear\":\n",
    "        return X\n",
    "    \n",
    "    elif func == \"Piece-wise linear\":\n",
    "        pw_x = np.array([\n",
    "            -6.25, -5.75, -5.25, -4.75, -4.25, -3.75, -3.25, -2.75, -2.25, -1.75,\n",
    "            -1.25, -0.75, -0.25,  0.25,  0.75,  1.25,  1.75,  2.25,  2.75,  3.25,\n",
    "            3.75,  4.25,  4.75,  5.25,  5.75,  6.25\n",
    "        ])\n",
    "\n",
    "        pw_y = np.array([\n",
    "            -0.25, -0.15, -1.05, -1.15, -2.05, -2.25, -2.6, -2.6, -2.25, -2.15,\n",
    "            -1.25, -1.15, -0.25, -0.25, -1.15, -1.25, -2.15, -2.25, -2.6, -2.6,\n",
    "            -2.25, -2.05, -1.15, -1.05, -0.15, -0.25\n",
    "        ]) + 1.5\n",
    "\n",
    "        pw_linear = interp1d(pw_x, pw_y, kind='linear', fill_value=\"extrapolate\", bounds_error=False)\n",
    "\n",
    "        return(pw_linear(X))\n",
    "    \n",
    "    elif func == \"Non-continuous\":\n",
    "        X_proc = X.copy()\n",
    "        for i in range(len(X)):\n",
    "            for j in range(len(X[0])):\n",
    "                if np.abs(X[i,j]) <= 1.5:\n",
    "                    X_proc[i,j] = np.where(np.abs(X[i,j]) < 0.4, 1, -1)\n",
    "                else:\n",
    "                    X_proc[i,j] = np.sign(X[i,j]) * 0.05 * (X[i,j]**2 - 1.5**2) - 1\n",
    "        return X_proc\n",
    "        \n",
    "    elif func == \"Exponential\":\n",
    "        return np.exp(X)\n",
    "    \n",
    "    else:\n",
    "        return X"
   ]
  },
  {
   "cell_type": "markdown",
   "id": "fd51432d",
   "metadata": {},
   "source": [
    "#### Calculate the Y with grouped beta"
   ]
  },
  {
   "cell_type": "code",
   "execution_count": 4,
   "id": "0c278162",
   "metadata": {},
   "outputs": [],
   "source": [
    "def calc_y(X, num_features, num_samples, func):\n",
    "\n",
    "    epsilon = np.random.normal(0, 1, num_samples)\n",
    "\n",
    "    beta = np.random.uniform(-1, 1, num_features + 1)\n",
    "    beta[1:] = [0.1, 0.1, 0.1, 0.1, 0.4, 0.4, 0.4, 0.4, 1, 1, 1, 1]\n",
    "\n",
    "    Y = beta[0] + np.sum(np.multiply(beta[1:], g(X, func)), axis=1) + epsilon\n",
    "\n",
    "    return Y, beta"
   ]
  },
  {
   "cell_type": "markdown",
   "id": "42c85942",
   "metadata": {},
   "source": [
    "#### Define the neural network"
   ]
  },
  {
   "cell_type": "code",
   "execution_count": 5,
   "id": "33f11df5",
   "metadata": {},
   "outputs": [],
   "source": [
    "class Net(nn.Module):\n",
    "\n",
    "    def __init__(self, num_features):\n",
    "        super(Net, self).__init__()\n",
    "\n",
    "        self.net = nn.Sequential(\n",
    "            nn.Linear(num_features, 256),\n",
    "            nn.ReLU(),\n",
    "            nn.Dropout(0.4),\n",
    "            nn.Linear(256, 128),\n",
    "            nn.ReLU(),\n",
    "            nn.Dropout(0.4),\n",
    "            nn.Linear(128, 64),\n",
    "            nn.ReLU(),\n",
    "            nn.Dropout(0.4),\n",
    "            nn.Linear(64, 1)\n",
    "        )\n",
    "\n",
    "    \n",
    "    def forward(self, input):\n",
    "        return self.net(input)"
   ]
  },
  {
   "cell_type": "markdown",
   "id": "78fa4d80",
   "metadata": {},
   "source": [
    "#### Split the data in train and test samples"
   ]
  },
  {
   "cell_type": "code",
   "execution_count": 6,
   "id": "75c2f1ab",
   "metadata": {},
   "outputs": [],
   "source": [
    "def train_split(X, Y, num_samples, train_rate=0.8):\n",
    "    index = int(num_samples * train_rate)\n",
    "\n",
    "    X_train = X[:index]\n",
    "    Y_train = Y[:index]\n",
    "\n",
    "    X_test = X[index:]\n",
    "    Y_test = Y[index:]\n",
    "\n",
    "    return X_train, X_test, Y_train, Y_test"
   ]
  },
  {
   "cell_type": "markdown",
   "id": "c1d4ce3a",
   "metadata": {},
   "source": [
    "#### Define the z score preprocessing"
   ]
  },
  {
   "cell_type": "code",
   "execution_count": 7,
   "id": "debc5876",
   "metadata": {},
   "outputs": [],
   "source": [
    "def preprocess(X_train, X_test):\n",
    "        \n",
    "    mean = np.mean(X_train, axis=0)\n",
    "    std = np.std(X_train, axis=0)\n",
    "\n",
    "    X_train = (X_train - mean) / std\n",
    "    X_test = (X_test - mean) / std\n",
    "    \n",
    "    return X_train, X_test"
   ]
  },
  {
   "cell_type": "markdown",
   "id": "d2274c3e",
   "metadata": {},
   "source": [
    "#### Train the network"
   ]
  },
  {
   "cell_type": "code",
   "execution_count": 8,
   "id": "4f8c9bfe",
   "metadata": {},
   "outputs": [],
   "source": [
    "def train_model(net, X_train, X_test, Y_train, Y_test):\n",
    "    optimizer = torch.optim.Adam(net.parameters(), lr=0.01)\n",
    "    loss_fn = nn.MSELoss()\n",
    "\n",
    "    X_train_tensor = torch.tensor(X_train, dtype=torch.float32)\n",
    "    Y_train_tensor = torch.tensor(Y_train.reshape(-1, 1), dtype=torch.float32)\n",
    "\n",
    "    highest_score = -10\n",
    "    counter = 50\n",
    "    PATH = \"best_model_faith_con.pt\"\n",
    "\n",
    "    for epoch in range(300):\n",
    "        net.train()\n",
    "        optimizer.zero_grad()\n",
    "        outputs = net(X_train_tensor)\n",
    "        loss = loss_fn(outputs, Y_train_tensor)\n",
    "        loss.backward()\n",
    "        optimizer.step()\n",
    "\n",
    "        r2 = r2_score(net.forward(torch.from_numpy(X_test).type(torch.FloatTensor)), torch.from_numpy(np.reshape(Y_test, (-1, 1))).type(torch.FloatTensor))\n",
    "\n",
    "        if r2 > highest_score:\n",
    "            highest_score = r2\n",
    "            counter = 50\n",
    "            torch.save(net.state_dict(), PATH)\n",
    "        else:\n",
    "            counter -= 1\n",
    "\n",
    "        if counter == 0:\n",
    "            break\n",
    "\n",
    "    net.load_state_dict(torch.load(PATH, weights_only=True))\n",
    "    net.eval()\n",
    "        \n",
    "    score = r2_score(net.forward(torch.from_numpy(X_test).type(torch.FloatTensor)), torch.from_numpy(np.reshape(Y_test, (-1, 1))).type(torch.FloatTensor))\n",
    "\n",
    "    return net, score"
   ]
  },
  {
   "cell_type": "markdown",
   "id": "a30f919a",
   "metadata": {},
   "source": [
    "#### Generate the attribution values"
   ]
  },
  {
   "cell_type": "code",
   "execution_count": 9,
   "id": "9a90a7d0",
   "metadata": {},
   "outputs": [],
   "source": [
    "def calc_explanations(X_test, net):\n",
    "\n",
    "    test_input_tensor = torch.from_numpy(X_test).type(torch.FloatTensor)\n",
    "\n",
    "    test_input_tensor.requires_grad_()\n",
    "\n",
    "    #Gradient\n",
    "\n",
    "    sal = Saliency(net)\n",
    "\n",
    "    attr_grad = sal.attribute(test_input_tensor, abs=False)\n",
    "    attr_grad = attr_grad.detach().numpy()\n",
    "\n",
    "    #Saliency\n",
    "\n",
    "    attr_sal = np.square(attr_grad)\n",
    "\n",
    "    #SmoothGrad\n",
    "\n",
    "    sal = Saliency(net)\n",
    "    nt = NoiseTunnel(sal)\n",
    "\n",
    "    noise_level = 0.2\n",
    "    stdev = (torch.max(test_input_tensor) - torch.min(test_input_tensor)).detach().item() * noise_level\n",
    "\n",
    "    attr_sm_grad = nt.attribute(test_input_tensor, nt_samples=50, nt_type=\"smoothgrad\", stdevs=stdev, abs=False)\n",
    "    attr_sm_grad = attr_sm_grad.detach().numpy()\n",
    "\n",
    "    #GradientxInput\n",
    "\n",
    "    ixg = InputXGradient(net)\n",
    "\n",
    "    attr_ixg = ixg.attribute(test_input_tensor)\n",
    "    attr_ixg = attr_ixg.detach().numpy()\n",
    "\n",
    "    #Lrp-epsilon\n",
    "\n",
    "    net.net.rule = EpsilonRule(0.1)\n",
    "\n",
    "    lrp = LRP(net)\n",
    "\n",
    "    attr_lrp = lrp.attribute(test_input_tensor)\n",
    "    attr_lrp = attr_lrp.detach().numpy()\n",
    "\n",
    "    #SmoothGradXInput\n",
    "\n",
    "    ixg = InputXGradient(net)\n",
    "    nt_ixg = NoiseTunnel(ixg)\n",
    "\n",
    "    attr_sm_ixg = nt_ixg.attribute(test_input_tensor, nt_samples=50, nt_type=\"smoothgrad\", stdevs=stdev)\n",
    "    attr_sm_ixg = attr_sm_ixg.detach().numpy()\n",
    "\n",
    "    #Integrated Gradients\n",
    "\n",
    "    ig = IntegratedGradients(net)\n",
    "\n",
    "    attr_ig_zero = ig.attribute(test_input_tensor,baselines=0.0)\n",
    "    attr_ig_zero = attr_ig_zero.detach().numpy()\n",
    "\n",
    "\n",
    "    baseline_mean = torch.mean(torch.from_numpy(X_test), dim=0, keepdim=True).type(torch.FloatTensor)\n",
    "\n",
    "    ig = IntegratedGradients(net)\n",
    "\n",
    "    attr_ig_mean = ig.attribute(test_input_tensor,baselines=baseline_mean)\n",
    "    attr_ig_mean = attr_ig_mean.detach().numpy()\n",
    "    \n",
    "    #DeepLIFT\n",
    "\n",
    "    dl = DeepLift(net)\n",
    "\n",
    "    attr_dl_zero = dl.attribute(test_input_tensor, baselines=0.0)\n",
    "    attr_dl_zero = attr_dl_zero.detach().numpy()\n",
    "\n",
    "    dl = DeepLift(net)\n",
    "\n",
    "    attr_dl_mean = dl.attribute(test_input_tensor, baselines=baseline_mean)\n",
    "    attr_dl_mean = attr_dl_mean.detach().numpy()\n",
    "\n",
    "    return attr_grad, attr_sal, attr_sm_grad, attr_ixg, attr_lrp, attr_sm_ixg, attr_ig_zero, attr_ig_mean, attr_dl_zero, attr_dl_mean"
   ]
  },
  {
   "cell_type": "markdown",
   "id": "8fbb47be",
   "metadata": {},
   "source": [
    "#### Compute the correlation values"
   ]
  },
  {
   "cell_type": "code",
   "execution_count": 10,
   "id": "a5826a8c",
   "metadata": {},
   "outputs": [],
   "source": [
    "def correlations(attr, feature_importance, num_features):\n",
    "    explainations = attr.T\n",
    "\n",
    "    corr_matrix = np.corrcoef(feature_importance, explainations)\n",
    "\n",
    "    corr = [corr_matrix[i, num_features + i] for i in range(num_features)]\n",
    "\n",
    "    return corr"
   ]
  },
  {
   "cell_type": "markdown",
   "id": "1fb29e7b",
   "metadata": {},
   "source": [
    "#### Calculate the true feature effects from the inputs"
   ]
  },
  {
   "cell_type": "code",
   "execution_count": 11,
   "id": "46b1c868",
   "metadata": {},
   "outputs": [],
   "source": [
    "def calc_feature_importance(X_test, beta, func):\n",
    "    feature_importance = np.multiply(beta[1:], g(X_test, func)).T\n",
    "\n",
    "    return feature_importance"
   ]
  },
  {
   "cell_type": "markdown",
   "id": "bfd6042a",
   "metadata": {},
   "source": [
    "#### Main method to conduct the simulation"
   ]
  },
  {
   "cell_type": "code",
   "execution_count": 12,
   "id": "cc539338",
   "metadata": {},
   "outputs": [
    {
     "name": "stderr",
     "output_type": "stream",
     "text": [
      "/opt/anaconda3/lib/python3.11/site-packages/captum/log/dummy_log.py:39: UserWarning: Setting forward, backward hooks and attributes on non-linear\n",
      "               activations. The hooks and attributes will be removed\n",
      "            after the attribution is finished\n",
      "  return func(*args, **kwargs)\n"
     ]
    },
    {
     "name": "stdout",
     "output_type": "stream",
     "text": [
      "Linear: 0.8041427135467529\n",
      "Piece-wise linear: 0.5921663045883179\n",
      "Non-continuous: 0.3580896854400635\n"
     ]
    }
   ],
   "source": [
    "num_features=12\n",
    "num_samples=5000\n",
    "\n",
    "scores = []\n",
    "\n",
    "data = []\n",
    "\n",
    "for func in [\"Linear\", \"Piece-wise linear\", \"Non-continuous\"]:\n",
    "\n",
    "    scores = []\n",
    "\n",
    "    for i in range(200):\n",
    "\n",
    "        X = gen_data()\n",
    "\n",
    "        Y, beta = calc_y(X, num_features, num_samples, func)\n",
    "    \n",
    "        net = Net(num_features)\n",
    "\n",
    "        X_train, X_test, Y_train, Y_test = train_split(X, Y, num_samples)\n",
    "\n",
    "        feature_importance = calc_feature_importance(X_test, beta, func)\n",
    "\n",
    "        X_train, X_test = preprocess(X_train, X_test)\n",
    "\n",
    "        net, score = train_model(net, X_train, X_test, Y_train, Y_test)\n",
    "\n",
    "        scores.append(score)\n",
    "\n",
    "        #print(score)\n",
    "\n",
    "        attr_grad, attr_sal, attr_sm_grad, attr_ixg, attr_lrp, attr_sm_ixg, attr_ig_zero, attr_ig_mean, attr_dl_zero, attr_dl_mean = calc_explanations(X_test, net)\n",
    "\n",
    "        for (attr, corr_method) in zip((attr_grad, attr_sm_grad, attr_sal, attr_ixg, attr_lrp, attr_sm_ixg, attr_ig_zero, attr_ig_mean, attr_dl_zero, attr_dl_mean),\n",
    "                                  (\"Gradient\", \"SmoothGrad\", \"Saliency\", \"InputxGrad\", \"LRP-ℇ\", \"SmoothGradxInput\", \"Integrated Gradient(zero)\", \n",
    "                                   \"Integrated Gradient(mean)\", \"DeepLift(zero)\", \"DeepLift(mean)\")):\n",
    "    \n",
    "            correlation = correlations(attr, feature_importance, num_features)\n",
    "\n",
    "            for ind in range(len(correlation)):\n",
    "                if ind < 4:\n",
    "                    data.append({\n",
    "                        'Method': corr_method,\n",
    "                        'FunctionType': func,\n",
    "                        'FeatureEffect': \"Weak\",\n",
    "                        'Correlation': correlation[ind]\n",
    "                    })\n",
    "                elif ind < 8:\n",
    "                    data.append({\n",
    "                        'Method': corr_method,\n",
    "                        'FunctionType': func,\n",
    "                        'FeatureEffect': \"Medium\",\n",
    "                        'Correlation': correlation[ind]\n",
    "                    })\n",
    "                else:\n",
    "                    data.append({\n",
    "                        'Method': corr_method,\n",
    "                        'FunctionType': func,\n",
    "                        'FeatureEffect': \"Strong\",\n",
    "                        'Correlation': correlation[ind]\n",
    "                    })\n",
    "        \n",
    "    print(f\"{func}: {np.mean(scores)}\")"
   ]
  },
  {
   "cell_type": "markdown",
   "id": "0d25c8ed",
   "metadata": {},
   "source": [
    "#### Plot the simulation results"
   ]
  },
  {
   "cell_type": "code",
   "execution_count": 13,
   "id": "88579bb7",
   "metadata": {},
   "outputs": [
    {
     "name": "stdout",
     "output_type": "stream",
     "text": [
      "               Method    FunctionType FeatureEffect  Correlation\n",
      "0            Gradient          Linear          Weak     0.653017\n",
      "1            Gradient          Linear          Weak     0.495426\n",
      "2            Gradient          Linear          Weak     0.110816\n",
      "3            Gradient          Linear          Weak     0.504193\n",
      "4            Gradient          Linear        Medium     0.266542\n",
      "...               ...             ...           ...          ...\n",
      "71995  DeepLift(mean)  Non-continuous        Medium     0.394151\n",
      "71996  DeepLift(mean)  Non-continuous        Strong     0.755004\n",
      "71997  DeepLift(mean)  Non-continuous        Strong     0.852502\n",
      "71998  DeepLift(mean)  Non-continuous        Strong     0.687940\n",
      "71999  DeepLift(mean)  Non-continuous        Strong     0.722122\n",
      "\n",
      "[72000 rows x 4 columns]\n"
     ]
    },
    {
     "data": {
      "image/png": "[encoded data removed]",
      "text/plain": [
       "<Figure size 1200x500 with 3 Axes>"
      ]
     },
     "metadata": {},
     "output_type": "display_data"
    }
   ],
   "source": [
    "\n",
    "df = pd.DataFrame(data)\n",
    "print(df)\n",
    "\n",
    "\n",
    "flierprops = dict(marker='o', markersize=2, alpha=0.4)\n",
    "\n",
    "\n",
    "g = sns.FacetGrid(\n",
    "    df,\n",
    "    col='FunctionType',\n",
    "    sharex=True,\n",
    "    height=5,\n",
    "    aspect=0.8\n",
    ")\n",
    "\n",
    "g.map_dataframe(\n",
    "    sns.boxplot,\n",
    "    x='Correlation',\n",
    "    y='Method',\n",
    "    hue='FeatureEffect',\n",
    "    palette={'Weak': '#39a3a3', 'Medium': '#56b4e9', 'Strong': '#e76f51'},\n",
    "    flierprops=flierprops,\n",
    "    dodge=True\n",
    ")\n",
    "\n",
    "for ax in g.axes.flatten():\n",
    "    ax.axvline(0, color='black', linestyle='--', linewidth=1)\n",
    "\n",
    "handles, labels = g.axes[0][0].get_legend_handles_labels()\n",
    "g.figure.legend(handles, labels, title=\"Feature effect\", loc='lower center', ncol=3, frameon=False, bbox_to_anchor=(0.5, 0))\n",
    "\n",
    "g.set_titles(\"{col_name}\")\n",
    "plt.subplots_adjust(bottom=0.25)\n",
    "plt.show()"
   ]
  }
 ],
 "metadata": {
  "kernelspec": {
   "display_name": "base",
   "language": "python",
   "name": "python3"
  },
  "language_info": {
   "codemirror_mode": {
    "name": "ipython",
    "version": 3
   },
   "file_extension": ".py",
   "mimetype": "text/x-python",
   "name": "python",
   "nbconvert_exporter": "python",
   "pygments_lexer": "ipython3",
   "version": "3.11.8"
  }
 },
 "nbformat": 4,
 "nbformat_minor": 5
}
